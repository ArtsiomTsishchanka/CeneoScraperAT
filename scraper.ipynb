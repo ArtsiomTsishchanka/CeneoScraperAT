{
 "cells": [
  {
   "cell_type": "markdown",
   "metadata": {},
   "source": [
    "# Ceneo Scraper"
   ]
  },
  {
   "cell_type": "markdown",
   "metadata": {},
   "source": [
    "# Załadowanie bibliotek"
   ]
  },
  {
   "cell_type": "code",
   "execution_count": null,
   "metadata": {},
   "outputs": [],
   "source": [
    "import requests\n",
    "from bs4 import BeautifulSoup"
   ]
  },
  {
   "cell_type": "markdown",
   "metadata": {},
   "source": [
    "# Wysłanie zapytania do serwera"
   ]
  },
  {
   "cell_type": "code",
   "execution_count": null,
   "metadata": {},
   "outputs": [],
   "source": [
    "product_id = \"138331381\"\n",
    "url = f\"https://www.ceneo.pl/{product_id}#tab=reviews\"\n",
    "response = requests.get(url)"
   ]
  },
  {
   "cell_type": "markdown",
   "metadata": {},
   "source": [
    "# Pobranie opinii z kodu HTML strony"
   ]
  },
  {
   "cell_type": "code",
   "execution_count": null,
   "metadata": {},
   "outputs": [],
   "source": [
    "page_dom = BeautifulSoup(response.text, \"html.parser\")\n",
    "print(type(page_dom))\n",
    "opinions = page_dom.select(\"div.js_product-review\")\n",
    "print(type(opinions))\n",
    "opinion = opinions.pop(0)\n",
    "print(type(opinion))"
   ]
  },
  {
   "cell_type": "markdown",
   "metadata": {},
   "source": [
    "# Ekstrakcja składowych pojedynczej opinii\n",
    "\n",
    "|Składowa|\tSelektor|\tZmienna|\n",
    "|--------|---------|-----|\n",
    "|id opinii|\t[\"data-entry-id\"]|\topinion_id|\n",
    "|autor\t|span.user-post__author-name\t|author|\n",
    "|rekomendacja|\tspan.user-post__author-recomendation|\trecommendation|\n",
    "|gwiazdki|\tspan.user-post__score-count|\tstars|\n",
    "|treść|\tdiv.user-post__text|\tcontent|\n",
    "|lista zalet|\tdiv.review-feature__title--positives ~ div.review-feature__item|\tpros|\n",
    "|lista wad|\tdiv.review-feature__title--negatives ~ div.review-feature__item\t|cons|\n",
    "|dla ilu przydatna|\tbutton.vote-yes > span|\thelpful|\n",
    "|dla ilu nieprzydatna|\tbutton.vote-no > span|\tunhelpful|\n",
    "|data wystawienia|\tspan.user-post__published > time:nth-child(1)[\"datetime\"]\t|publish_date|\n",
    "|data zakupu|\tspan.user-post__published > time:nth-child(2)[\"datetime\"]\t|purchase_date|\n"
   ]
  },
  {
   "cell_type": "code",
   "execution_count": null,
   "metadata": {},
   "outputs": [],
   "source": [
    "opinion_id = opinion[\"data-entry-id\"]\n",
    "author = opinion.select_one(\"span.user-post__author-name\")"
   ]
  }
 ],
 "metadata": {
  "language_info": {
   "name": "python"
  }
 },
 "nbformat": 4,
 "nbformat_minor": 2
}
